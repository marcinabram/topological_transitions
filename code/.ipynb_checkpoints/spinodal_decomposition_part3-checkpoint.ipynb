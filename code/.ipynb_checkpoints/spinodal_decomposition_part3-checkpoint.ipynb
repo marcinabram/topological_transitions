{
 "cells": [
  {
   "cell_type": "markdown",
   "metadata": {},
   "source": [
    "# Spinodal Decomposition (Part III)\n",
    "\n",
    "\n",
    "## Introduction\n",
    "\n",
    "In this notebook, we continue our analysis of the spinodal decomposition model.\n",
    "\n",
    "\n",
    "### Scope of the work\n",
    "\n",
    " 1. We load the data (see the detail description of the datasets in the Part I).\n",
    " 2. We train a regression model, to predict the initial parameters from the final simulation output.\n",
    " 3. We train a classifier, to predict the resulting morphology from the initial few frames of the simulation.\n",
    "\n",
    "\n",
    "### Part I: A Short Overview\n",
    "\n",
    "In the 1st notebook we focused on data exploration and clustering methods. We compared various feature vector representation and we determined the optimal number of clusters. We identified a morphology class for which the microstructures merge into characteristic, macroscopic, spanning clusters (SC). Finally, using the learning-by-confusion schema, we determined the threshold value for the transition between two main morphology classes.\n",
    "\n",
    "### Part II: A Short Overview\n",
    "\n",
    "In the 2nd notebook we focused on demonstrating the label propagation technique. We show how to train classifiers that are capable of detecting the SC without explicit access to the true labels (semi-supervised learning regime).\n",
    "\n",
    "\n",
    "### The Background\n",
    "\n",
    " - We have training and test data generated with a help of a classical, resource-intensive simulation.\n",
    " - Each simulation describes evolution of two phases.\n",
    " - We are interested in learning the final morphology.\n",
    " - We have three different (initial) parameters that we can control: mobility of phase A, `mobA`, mobility of phase B, `mobB`, and phase fraction, `frac`.\n",
    " \n",
    " \n",
    "### Motivation\n",
    "\n",
    " - **Goal 1:** We would like to learn if the morphologies can be logically grouped into a number of distinctive classes. If yes, we would like to create a morphology map.\n",
    " - **Goal 2:** We would like to train a model to predict the expected morphology type from the initial (few) frames of the classical simulation.\n",
    "\n",
    "In this notebook, we focus on the second goal."
   ]
  },
  {
   "cell_type": "markdown",
   "metadata": {},
   "source": [
    "### Library Imports\n",
    "\n",
    "We will pre-load all libraries that we will use in that notebook.\n",
    "\n",
    "The notebook was tested with python 3.8, CUDA 10.1 and with the following package versions:\n",
    "\n",
    "    Package                           Version\n",
    "    --------------------------------- ----------\n",
    "    numpy                             1.18.5\n",
    "    pandas                            1.1.5\n",
    "    scikit-image                      0.18.0\n",
    "    scikit-learn                      0.23.2\n",
    "    scipy                             1.4.1\n",
    "    tensorflow-gpu                    2.3.0\n",
    "    tensorflow-hub                    0.10.0"
   ]
  },
  {
   "cell_type": "code",
   "execution_count": 1,
   "metadata": {},
   "outputs": [],
   "source": [
    "# Standard libraries\n",
    "import collections\n",
    "import os\n",
    "import json\n",
    "import random\n",
    "import sys\n",
    "import time\n",
    "\n",
    "# Libraries you must install (e.g. using pip install name_of_the_library)\n",
    "import numpy\n",
    "import pandas\n",
    "import scipy\n",
    "import skimage.measure\n",
    "import sklearn.cluster\n",
    "import sklearn.decomposition\n",
    "import sklearn.manifold\n",
    "import sklearn.metrics\n",
    "import tensorflow\n",
    "import tensorflow_hub\n",
    "\n",
    "# Graphic libraries\n",
    "import matplotlib\n",
    "from matplotlib import pyplot as plt\n",
    "%matplotlib inline"
   ]
  },
  {
   "cell_type": "markdown",
   "metadata": {},
   "source": [
    "## Input Data\n",
    "\n",
    "To see the detail analysis of the input data, see the first notebook, \"Spinodal Decomposition (Part I)\".\n",
    "\n",
    "The original simulations were saved as 101x512x512 dimensional numpy arrays, with `float64` numbers that range from around -1.05 to +1.05. Here, in order to save the space, we encoded the numbers as `float16`. Additionally, to make the input more similar to the input of some popular CNN architectures, we changed the dimensions of each frame from 512x512 to 256x256 (replacing every block of 2x2 pixels by the mean value).\n",
    "\n",
    "The compression was performed by the following code,\n",
    "\n",
    "```python\n",
    "    assert original_data.dtype == 'float64' \n",
    "    assert original_data.shape == (4998, 101, 512, 512, 1)\n",
    "    \n",
    "    last_frame = original_data[:,-1]\n",
    "    resized_data = skimage.measure.block_reduce(last_frame, (1, 2, 2, 1), numpy.mean)\n",
    "    resized_data = resized_data.astype('float16')\n",
    "    \n",
    "    assert resized_data.dtype == 'float16' \n",
    "    assert resized_data.shape == (4998, 256, 256, 1)\n",
    "```\n",
    "\n",
    "There was originally 5000 training and 500 test simulations (generated for different initial parameters; the initial values of the parameters were selected randomly from uniform distributions). However, 2 training simulations were corrupted. Additionally, we selected 1000 training simulations (20%) to create a validation set. Therefore, the number of simulations used to construct the training set was 3998.\n",
    "\n",
    "The input data have discrete translational symmetry (the input data is represented on a torus; we have periodic-boundary conditions both up-down and left-right). We leveraged it to to augment the training instances (see the Data Augmentation in Section 4 below)."
   ]
  },
  {
   "cell_type": "markdown",
   "metadata": {},
   "source": [
    "### Data Location\n",
    "\n",
    "All the input data can be found at the ISI server `effectbig03` in the `/data/mjabram/share/spinodal_decomposition` folder."
   ]
  },
  {
   "cell_type": "code",
   "execution_count": 2,
   "metadata": {},
   "outputs": [],
   "source": [
    "# If you run this notebook localy, change the path so it match the location of your main data folder\n",
    "DATA_PATH = '/raw/cah/shared/'"
   ]
  },
  {
   "cell_type": "markdown",
   "metadata": {},
   "source": [
    "### The Simulation Data\n",
    "\n",
    "We load the simulation data. We use a dataset, that contains only the last frame of the simulation.\n",
    "For our convenience (e.g., to make it compatible with the `plotlib`), we cast the data back from `float16` to `float32`. Note, this doesn't mean, that our accuracy of the input data increased to `float32`. We still have only about 4 significant digits per number. However, this should not be a problem, since the majority of pixel values are either close to +1 or to -1 (there is very little pixels with values close to zero; thus, even with a lower numerical precision, we can correctly identify the positive and negative regions). "
   ]
  },
  {
   "cell_type": "code",
   "execution_count": 3,
   "metadata": {},
   "outputs": [
    {
     "data": {
      "text/plain": [
       "((4998, 256, 256, 1), dtype('float32'))"
      ]
     },
     "execution_count": 3,
     "metadata": {},
     "output_type": "execute_result"
    }
   ],
   "source": [
    "# Load the training data\n",
    "data = numpy.load(os.path.join(DATA_PATH, 'cah_lastframe_train5000x_256f16.npy')).astype('float32')\n",
    "data.shape, data.dtype"
   ]
  },
  {
   "cell_type": "code",
   "execution_count": 4,
   "metadata": {},
   "outputs": [
    {
     "data": {
      "image/png": "[encoded data removed]",
      "text/plain": [
       "<Figure size 432x288 with 5 Axes>"
      ]
     },
     "metadata": {
      "needs_background": "light"
     },
     "output_type": "display_data"
    }
   ],
   "source": [
    "def plot_frames(data, *arr, cmap='viridis', title=None, axis=None):\n",
    "    \"\"\"Plot selected frames.\"\"\"\n",
    "    if title:\n",
    "        print(title)\n",
    "    fig, axes = plt.subplots(1, len(arr))\n",
    "    for i, k in enumerate(arr):\n",
    "        a = axes if len(arr) == 1 else axes[i]\n",
    "        if not axis:\n",
    "            a.axis('off');\n",
    "        fig.tight_layout() \n",
    "        a.imshow(data[k], cmap=cmap)\n",
    "    plt.show()\n",
    "\n",
    "# Plot last frames from a few simulations\n",
    "plot_frames(data, 0, 1, 2, 14, -1)  # note, we count the simulations from 0 not from 1"
   ]
  },
  {
   "cell_type": "markdown",
   "metadata": {},
   "source": [
    "The original input ranges from around -1.04 to 1.04. However, most image recognition models expect the input to be in the `[0, 1]` range. Therefore, we clip the values that are below -1 or above 1, and then we rescale the input to be in the `[0, 1]` range."
   ]
  },
  {
   "cell_type": "code",
   "execution_count": 5,
   "metadata": {},
   "outputs": [
    {
     "data": {
      "text/plain": [
       "(0.0, 1.0, 0.49998206)"
      ]
     },
     "execution_count": 5,
     "metadata": {},
     "output_type": "execute_result"
    },
    {
     "data": {
      "image/png": "[encoded data removed]",
      "text/plain": [
       "<Figure size 576x216 with 1 Axes>"
      ]
     },
     "metadata": {
      "needs_background": "light"
     },
     "output_type": "display_data"
    }
   ],
   "source": [
    "# Standarize the input data\n",
    "data = numpy.where(data > 1, 1, data)\n",
    "data = numpy.where(data < -1, -1, data)\n",
    "data += 1\n",
    "data /= 2\n",
    "\n",
    "# Plot the distribution again (note, now the distribution is from 0 to 1)\n",
    "fig, ax = plt.subplots()\n",
    "pandas.Series(data.flatten()).hist(bins=200, figsize=(8, 3))\n",
    "ax.set_yscale('log')\n",
    "data.min(), data.max(), data.mean()"
   ]
  },
  {
   "cell_type": "markdown",
   "metadata": {},
   "source": [
    "### Parameters\n",
    "\n",
    "We load the initial parameters. There are three values for each simulation: the mobility of the phase A, `mobA`, the mobility of the phase B, `mobB`, and the phase fraction, `frac`.\n",
    "\n",
    "The initial parameters were selected from uniform distributions. Mobility of the A and B phase were selected from `U(0, 100)`, while the phase fraction was selected from `U(-0.4, 0.4)`.\n",
    "\n",
    "The phase fraction is (most likely; a confirmation is needed!) defined as `frac = phase A concentration - phase B concentration` with the constraint `phase A concentration + phase B concentration = 1`.\n",
    "\n",
    "Again, for detail analysis, see the first notebook. We described there, e.g., a small discrepancy between the declared phase concentration and the measured one. However, we believe that this should not effect the results of this analysis."
   ]
  },
  {
   "cell_type": "code",
   "execution_count": 6,
   "metadata": {},
   "outputs": [
    {
     "data": {
      "text/html": [
       "<div>\n",
       "<style scoped>\n",
       "    .dataframe tbody tr th:only-of-type {\n",
       "        vertical-align: middle;\n",
       "    }\n",
       "\n",
       "    .dataframe tbody tr th {\n",
       "        vertical-align: top;\n",
       "    }\n",
       "\n",
       "    .dataframe thead th {\n",
       "        text-align: right;\n",
       "    }\n",
       "</style>\n",
       "<table border=\"1\" class=\"dataframe\">\n",
       "  <thead>\n",
       "    <tr style=\"text-align: right;\">\n",
       "      <th></th>\n",
       "      <th>mobA</th>\n",
       "      <th>mobB</th>\n",
       "      <th>frac</th>\n",
       "    </tr>\n",
       "  </thead>\n",
       "  <tbody>\n",
       "    <tr>\n",
       "      <th>4993</th>\n",
       "      <td>67.035086</td>\n",
       "      <td>46.664670</td>\n",
       "      <td>-0.158747</td>\n",
       "    </tr>\n",
       "    <tr>\n",
       "      <th>4994</th>\n",
       "      <td>94.223735</td>\n",
       "      <td>98.272281</td>\n",
       "      <td>0.148099</td>\n",
       "    </tr>\n",
       "    <tr>\n",
       "      <th>4995</th>\n",
       "      <td>2.031358</td>\n",
       "      <td>43.635881</td>\n",
       "      <td>0.238011</td>\n",
       "    </tr>\n",
       "    <tr>\n",
       "      <th>4996</th>\n",
       "      <td>14.542157</td>\n",
       "      <td>0.946535</td>\n",
       "      <td>0.029123</td>\n",
       "    </tr>\n",
       "    <tr>\n",
       "      <th>4997</th>\n",
       "      <td>18.476629</td>\n",
       "      <td>84.828663</td>\n",
       "      <td>-0.374032</td>\n",
       "    </tr>\n",
       "  </tbody>\n",
       "</table>\n",
       "</div>"
      ],
      "text/plain": [
       "           mobA       mobB      frac\n",
       "4993  67.035086  46.664670 -0.158747\n",
       "4994  94.223735  98.272281  0.148099\n",
       "4995   2.031358  43.635881  0.238011\n",
       "4996  14.542157   0.946535  0.029123\n",
       "4997  18.476629  84.828663 -0.374032"
      ]
     },
     "execution_count": 6,
     "metadata": {},
     "output_type": "execute_result"
    }
   ],
   "source": [
    "# Load the parameters\n",
    "parameters = numpy.load(os.path.join(DATA_PATH, 'cah_lastframe_train5000p_256f16.npy'))\n",
    "parameters = pandas.DataFrame(data=parameters, columns=['mobA', 'mobB', 'frac'])\n",
    "parameters.tail()"
   ]
  },
  {
   "cell_type": "markdown",
   "metadata": {},
   "source": [
    "### Connectivity Data\n",
    "\n",
    "Looking at the simulations, we can notice that there are two obvious classes: one where the positive phase is dominant (yellow background, purple \"bubbles\") and another where the negative phase is dominant (purple background, yellow \"bubbles\"). However, as we will see in moment, we have also cases, that can not be easily accounted to one of those two classes.\n",
    "\n",
    "We generated labels, checking if there is a path connecting pixels of one color from one edge to another edge. Specifically, we check if there is:\n",
    " - a vertical connection `v`. We say that there is such a connection, if there exists `k` for which there is a connected path of one color from `(k, 0)` to `(k, n-1)`.\n",
    " - a horizontal connection `h`. We say that there is such a connection, if there exists `k` for which there is a connected path of one color from `(0, k)` to `(n-1, k)`.\n",
    " \n",
    "We assumed, that the connected path can be traveled only in vertical or horizontal directions. Meaning, that two pixels of one color that share one common corner are not connected.\n",
    " \n",
    "We checked those connections with respect to:\n",
    " - both, negative phase (denoted as `neg` or `B`, and usually depicted by a purple color) and positive phase (denoted as `pos` or `A`, and usually depicted by a yellow color).\n",
    " - both, using and not-using the fact, that we have periodic boundary conditions (denoted below as `pbc`)."
   ]
  },
  {
   "cell_type": "code",
   "execution_count": 7,
   "metadata": {},
   "outputs": [
    {
     "data": {
      "text/html": [
       "<div>\n",
       "<style scoped>\n",
       "    .dataframe tbody tr th:only-of-type {\n",
       "        vertical-align: middle;\n",
       "    }\n",
       "\n",
       "    .dataframe tbody tr th {\n",
       "        vertical-align: top;\n",
       "    }\n",
       "\n",
       "    .dataframe thead th {\n",
       "        text-align: right;\n",
       "    }\n",
       "</style>\n",
       "<table border=\"1\" class=\"dataframe\">\n",
       "  <thead>\n",
       "    <tr style=\"text-align: right;\">\n",
       "      <th></th>\n",
       "      <th>pos</th>\n",
       "      <th>neg</th>\n",
       "      <th>pos_pbc</th>\n",
       "      <th>neg_pbc</th>\n",
       "    </tr>\n",
       "  </thead>\n",
       "  <tbody>\n",
       "    <tr>\n",
       "      <th>4993</th>\n",
       "      <td>0</td>\n",
       "      <td>hv</td>\n",
       "      <td>0</td>\n",
       "      <td>hv</td>\n",
       "    </tr>\n",
       "    <tr>\n",
       "      <th>4994</th>\n",
       "      <td>hv</td>\n",
       "      <td>0</td>\n",
       "      <td>hv</td>\n",
       "      <td>0</td>\n",
       "    </tr>\n",
       "    <tr>\n",
       "      <th>4995</th>\n",
       "      <td>hv</td>\n",
       "      <td>0</td>\n",
       "      <td>hv</td>\n",
       "      <td>0</td>\n",
       "    </tr>\n",
       "    <tr>\n",
       "      <th>4996</th>\n",
       "      <td>0</td>\n",
       "      <td>0</td>\n",
       "      <td>hv</td>\n",
       "      <td>hv</td>\n",
       "    </tr>\n",
       "    <tr>\n",
       "      <th>4997</th>\n",
       "      <td>0</td>\n",
       "      <td>hv</td>\n",
       "      <td>0</td>\n",
       "      <td>hv</td>\n",
       "    </tr>\n",
       "  </tbody>\n",
       "</table>\n",
       "</div>"
      ],
      "text/plain": [
       "     pos neg pos_pbc neg_pbc\n",
       "4993   0  hv       0      hv\n",
       "4994  hv   0      hv       0\n",
       "4995  hv   0      hv       0\n",
       "4996   0   0      hv      hv\n",
       "4997   0  hv       0      hv"
      ]
     },
     "execution_count": 7,
     "metadata": {},
     "output_type": "execute_result"
    }
   ],
   "source": [
    "# Load and show the labels\n",
    "connectivity = pandas.read_csv(os.path.join(DATA_PATH, 'cah_lastframe_train5000c_256f16.csv'))\n",
    "connectivity.tail()"
   ]
  },
  {
   "cell_type": "markdown",
   "metadata": {},
   "source": [
    "Note, that if both `pos=hv` and `neg=0`, it indicates that the positive phase is dominant (yellow background, purple \"bubbles\"). The opposite situation is when `pos=0` and `neg=hv`, then the negative phase is dominant (purple background, yellow bubbles).\n",
    "\n",
    "However, there are a couple of examples that can not be easily classified as horizontal (h) or vertical (v). One of them are the simulations no. 4996 (see below). We will call those examples as _spanning clusters_ (SC). The name was chosen because if you account for the periodic boundary conditions, both negative and positive phase will have macroscopic (infinite) size.\n",
    "\n",
    "The fact, that some cases were annotated as 0 in `pos` and `neg` but got non-zero value for `pos_pbc` and/or in `neg_pbc` usually means, that the spanning clusters are extended in the diagonal direction (see for example the simulation no. 2771)."
   ]
  },
  {
   "cell_type": "code",
   "execution_count": 8,
   "metadata": {},
   "outputs": [
    {
     "data": {
      "image/png": "[encoded data removed]",
      "text/plain": [
       "<Figure size 432x288 with 4 Axes>"
      ]
     },
     "metadata": {
      "needs_background": "light"
     },
     "output_type": "display_data"
    }
   ],
   "source": [
    "plot_frames(data, 2771, 4993, 4994, 4996, axis=True)"
   ]
  },
  {
   "cell_type": "code",
   "execution_count": 9,
   "metadata": {},
   "outputs": [
    {
     "data": {
      "text/html": [
       "<div>\n",
       "<style scoped>\n",
       "    .dataframe tbody tr th:only-of-type {\n",
       "        vertical-align: middle;\n",
       "    }\n",
       "\n",
       "    .dataframe tbody tr th {\n",
       "        vertical-align: top;\n",
       "    }\n",
       "\n",
       "    .dataframe thead th {\n",
       "        text-align: right;\n",
       "    }\n",
       "</style>\n",
       "<table border=\"1\" class=\"dataframe\">\n",
       "  <thead>\n",
       "    <tr style=\"text-align: right;\">\n",
       "      <th></th>\n",
       "      <th>pos</th>\n",
       "      <th>neg</th>\n",
       "      <th>pos_pbc</th>\n",
       "      <th>neg_pbc</th>\n",
       "      <th>sc</th>\n",
       "      <th>+</th>\n",
       "      <th>-</th>\n",
       "    </tr>\n",
       "  </thead>\n",
       "  <tbody>\n",
       "    <tr>\n",
       "      <th>4993</th>\n",
       "      <td>0</td>\n",
       "      <td>hv</td>\n",
       "      <td>0</td>\n",
       "      <td>hv</td>\n",
       "      <td>0</td>\n",
       "      <td>0</td>\n",
       "      <td>1</td>\n",
       "    </tr>\n",
       "    <tr>\n",
       "      <th>4994</th>\n",
       "      <td>hv</td>\n",
       "      <td>0</td>\n",
       "      <td>hv</td>\n",
       "      <td>0</td>\n",
       "      <td>0</td>\n",
       "      <td>1</td>\n",
       "      <td>0</td>\n",
       "    </tr>\n",
       "    <tr>\n",
       "      <th>4995</th>\n",
       "      <td>hv</td>\n",
       "      <td>0</td>\n",
       "      <td>hv</td>\n",
       "      <td>0</td>\n",
       "      <td>0</td>\n",
       "      <td>1</td>\n",
       "      <td>0</td>\n",
       "    </tr>\n",
       "    <tr>\n",
       "      <th>4996</th>\n",
       "      <td>0</td>\n",
       "      <td>0</td>\n",
       "      <td>hv</td>\n",
       "      <td>hv</td>\n",
       "      <td>1</td>\n",
       "      <td>0</td>\n",
       "      <td>0</td>\n",
       "    </tr>\n",
       "    <tr>\n",
       "      <th>4997</th>\n",
       "      <td>0</td>\n",
       "      <td>hv</td>\n",
       "      <td>0</td>\n",
       "      <td>hv</td>\n",
       "      <td>0</td>\n",
       "      <td>0</td>\n",
       "      <td>1</td>\n",
       "    </tr>\n",
       "  </tbody>\n",
       "</table>\n",
       "</div>"
      ],
      "text/plain": [
       "     pos neg pos_pbc neg_pbc  sc  +  -\n",
       "4993   0  hv       0      hv   0  0  1\n",
       "4994  hv   0      hv       0   0  1  0\n",
       "4995  hv   0      hv       0   0  1  0\n",
       "4996   0   0      hv      hv   1  0  0\n",
       "4997   0  hv       0      hv   0  0  1"
      ]
     },
     "execution_count": 9,
     "metadata": {},
     "output_type": "execute_result"
    }
   ],
   "source": [
    "# Mark \"spaning clusters\" (sc), dominant positive (+), and dominant negative (-) cases\n",
    "connectivity['sc'] = [int(row.pos != 'hv' and row.neg != 'hv') for _, row in connectivity.iterrows()]\n",
    "connectivity['+'] = [int(row.pos == 'hv' and row.neg != 'hv') for _, row in connectivity.iterrows()]\n",
    "connectivity['-'] = [int(row.pos != 'hv' and row.neg == 'hv') for _, row in connectivity.iterrows()]\n",
    "connectivity.tail()"
   ]
  },
  {
   "cell_type": "markdown",
   "metadata": {},
   "source": [
    "**Summary:** The spanning clusters will become our central focus through this notebook. There are interesting, because they indicate a moment when the system switch from one main class of outcomes (phase A being connected and phase B being disconnected) to the second main class of outcomes (phase B being connected and phase A being disconnected).\n",
    "\n",
    "We can also study this transition by analyzing the \"natural scale\" of the system. Approaching the transition, the size of the microscopic structures increases to reach macroscopic level. What is also characteristic, the final outcome become independent of the dynamical details of the system (namely, the mobility `mobA` and `mobB`). Those properties are part of the the universal scaling phenomena known from the statistical physics. "
   ]
  },
  {
   "cell_type": "markdown",
   "metadata": {},
   "source": [
    "### Feature Vectors (The Latent Space)\n",
    "\n",
    "To create feature vector from an image we can use one of the pre-trained models available in TensorFlow Hub. Here, we decided to use the **ResNet V2** model. The key difference with the V1 is the use of batch normalization. ResNet 50 has 50 layers and was trained on standard ImageNet-1k detaset (ILSVRC-2012-CLS). The feature vector has size `2048`. The input images are expected to have color values in the range `[0,1]` and the expected size of the input images is `224x224` pixels by default, but other input sizes are possible (within limits). See more at https://tfhub.dev/google/imagenet/resnet_v2_50/feature_vector/4.\n",
    "\n",
    "Note, that this model require 3-channel input. Therefore, we will just triple our output (each channel will have the same pictures). The entire procedure was done using the following code,\n",
    "\n",
    "```python\n",
    "data3 = numpy.repeat(data, 3, axis=-1)\n",
    "\n",
    "m = tensorflow.keras.Sequential([\n",
    "    tensorflow_hub.KerasLayer(\n",
    "        \"https://tfhub.dev/google/imagenet/resnet_v2_50/feature_vector/4\", trainable=False),\n",
    "])\n",
    "m.build([None, 256, 256, 3])\n",
    "\n",
    "feature_vector = m.predict(data3)\n",
    "```\n",
    "\n",
    "Here, to safe time, we will load the pre-computed feature vector from a file."
   ]
  },
  {
   "cell_type": "code",
   "execution_count": 10,
   "metadata": {},
   "outputs": [
    {
     "data": {
      "text/plain": [
       "(4998, 2048)"
      ]
     },
     "execution_count": 10,
     "metadata": {},
     "output_type": "execute_result"
    }
   ],
   "source": [
    "# To save time, we will just load the feature vector that we already pre-computed.\n",
    "feature_vector = numpy.load(os.path.join(DATA_PATH, 'cah_lastframe_train5000f_256f16_ResNetV2.npy'))\n",
    "feature_vector.shape"
   ]
  },
  {
   "cell_type": "markdown",
   "metadata": {},
   "source": [
    "### Training and Validation Dataset\n",
    "\n",
    "We take random 80% of dataset for training and we leave rest for validation."
   ]
  },
  {
   "cell_type": "code",
   "execution_count": 11,
   "metadata": {},
   "outputs": [
    {
     "data": {
      "text/plain": [
       "(array([1823, 3764, 2702,  464,  994]),\n",
       " (3998,),\n",
       " array([1095, 1042, 2876, 3791, 3932]),\n",
       " (1000,))"
      ]
     },
     "execution_count": 11,
     "metadata": {},
     "output_type": "execute_result"
    }
   ],
   "source": [
    "# Create training and validation set index\n",
    "indexes = list(range(len(data)))\n",
    "\n",
    "random.seed(123)  # just for the reproducibity, we set here a random number generator seed\n",
    "random.shuffle(indexes)\n",
    "\n",
    "train_n = int(len(data)*0.8)\n",
    "train_idx = numpy.array(indexes[:train_n])\n",
    "val_idx = numpy.array(indexes[train_n:])\n",
    "\n",
    "train_idx[:5], train_idx.shape, val_idx[:5], val_idx.shape"
   ]
  },
  {
   "cell_type": "code",
   "execution_count": 12,
   "metadata": {},
   "outputs": [
    {
     "data": {
      "text/plain": [
       "((3998, 2048), (3998, 3), (1000, 2048), (1000, 3), (3998, 256, 256, 1))"
      ]
     },
     "execution_count": 12,
     "metadata": {},
     "output_type": "execute_result"
    }
   ],
   "source": [
    "# Create training and validation dataset\n",
    "train_x = feature_vector[train_idx]\n",
    "train_p = parameters.iloc[train_idx]\n",
    "train_c = connectivity.iloc[train_idx]\n",
    "train_data = data[train_idx]\n",
    "\n",
    "val_x = feature_vector[val_idx]\n",
    "val_p = parameters.iloc[val_idx]\n",
    "val_c = connectivity.iloc[val_idx]\n",
    "val_data = data[val_idx]\n",
    "\n",
    "train_x.shape, train_p.shape, val_x.shape, val_p.shape, train_data.shape"
   ]
  },
  {
   "cell_type": "markdown",
   "metadata": {},
   "source": [
    "## Section 2: Initial Parameter Prediction\n",
    "\n",
    "We predict the initial parameters from the last frames."
   ]
  },
  {
   "cell_type": "code",
   "execution_count": 13,
   "metadata": {},
   "outputs": [
    {
     "name": "stdout",
     "output_type": "stream",
     "text": [
      "Model: \"sequential\"\n",
      "_________________________________________________________________\n",
      "Layer (type)                 Output Shape              Param #   \n",
      "=================================================================\n",
      "dense (Dense)                (None, 512)               1049088   \n",
      "_________________________________________________________________\n",
      "dropout (Dropout)            (None, 512)               0         \n",
      "_________________________________________________________________\n",
      "dense_1 (Dense)              (None, 1024)              525312    \n",
      "_________________________________________________________________\n",
      "dropout_1 (Dropout)          (None, 1024)              0         \n",
      "_________________________________________________________________\n",
      "dense_2 (Dense)              (None, 3)                 3075      \n",
      "=================================================================\n",
      "Total params: 1,577,475\n",
      "Trainable params: 1,577,475\n",
      "Non-trainable params: 0\n",
      "_________________________________________________________________\n"
     ]
    }
   ],
   "source": [
    "m1 = tensorflow.keras.Sequential([\n",
    "    tensorflow.keras.layers.Dense(512, activation='relu', input_shape=(2048,)),\n",
    "    tensorflow.keras.layers.Dropout(0.25),\n",
    "    tensorflow.keras.layers.Dense(1024, activation='relu'),\n",
    "    tensorflow.keras.layers.Dropout(0.25),\n",
    "    tensorflow.keras.layers.Dense(3, activation='linear')\n",
    "])\n",
    "m1.summary()"
   ]
  },
  {
   "cell_type": "code",
   "execution_count": 14,
   "metadata": {
    "scrolled": false
   },
   "outputs": [
    {
     "name": "stdout",
     "output_type": "stream",
     "text": [
      "Epoch 1/30\n",
      "125/125 [==============================] - 0s 3ms/step - loss: 1228.3486 - mae: 23.7967 - mape: 2095.1038 - val_loss: 533.9415 - val_mae: 16.2579 - val_mape: 336.8203\n",
      "Epoch 2/30\n",
      "125/125 [==============================] - 0s 2ms/step - loss: 461.9239 - mae: 15.2257 - mape: 1903.4994 - val_loss: 402.6580 - val_mae: 13.6807 - val_mape: 284.3004\n",
      "Epoch 3/30\n",
      "125/125 [==============================] - 0s 2ms/step - loss: 381.1730 - mae: 13.2966 - mape: 1582.2141 - val_loss: 356.1442 - val_mae: 12.2330 - val_mape: 253.5148\n",
      "Epoch 4/30\n",
      "125/125 [==============================] - 0s 2ms/step - loss: 349.2314 - mae: 12.4419 - mape: 1559.1122 - val_loss: 335.4197 - val_mae: 11.6966 - val_mape: 246.6927\n",
      "Epoch 5/30\n",
      "125/125 [==============================] - 0s 2ms/step - loss: 335.0625 - mae: 12.0627 - mape: 1956.4021 - val_loss: 327.6729 - val_mae: 11.5868 - val_mape: 281.4164\n",
      "Epoch 6/30\n",
      "125/125 [==============================] - 0s 2ms/step - loss: 328.4834 - mae: 11.8922 - mape: 1433.8849 - val_loss: 321.4831 - val_mae: 11.3770 - val_mape: 227.4304\n",
      "Epoch 7/30\n",
      "125/125 [==============================] - 0s 2ms/step - loss: 325.4165 - mae: 11.8212 - mape: 1287.3456 - val_loss: 318.2529 - val_mae: 11.2623 - val_mape: 235.4145\n",
      "Epoch 8/30\n",
      "125/125 [==============================] - 0s 2ms/step - loss: 319.9162 - mae: 11.6595 - mape: 1573.8336 - val_loss: 316.1632 - val_mae: 11.1469 - val_mape: 217.8436\n",
      "Epoch 9/30\n",
      "125/125 [==============================] - 0s 2ms/step - loss: 317.1706 - mae: 11.5944 - mape: 1009.7023 - val_loss: 313.5466 - val_mae: 11.1294 - val_mape: 250.3766\n",
      "Epoch 10/30\n",
      "125/125 [==============================] - 0s 2ms/step - loss: 313.7703 - mae: 11.5026 - mape: 1392.5021 - val_loss: 311.8375 - val_mae: 11.0428 - val_mape: 213.4028\n",
      "Epoch 11/30\n",
      "125/125 [==============================] - 0s 2ms/step - loss: 312.7900 - mae: 11.4749 - mape: 980.3283 - val_loss: 310.5168 - val_mae: 11.0305 - val_mape: 251.9508\n",
      "Epoch 12/30\n",
      "125/125 [==============================] - 0s 2ms/step - loss: 309.7989 - mae: 11.4014 - mape: 1085.9736 - val_loss: 311.0899 - val_mae: 10.9696 - val_mape: 197.0611\n",
      "Epoch 13/30\n",
      "125/125 [==============================] - 0s 2ms/step - loss: 307.3365 - mae: 11.3445 - mape: 1050.1847 - val_loss: 309.7378 - val_mae: 10.9629 - val_mape: 215.1675\n",
      "Epoch 14/30\n",
      "125/125 [==============================] - 0s 2ms/step - loss: 305.0656 - mae: 11.2811 - mape: 1550.6047 - val_loss: 308.9365 - val_mae: 10.9679 - val_mape: 201.7214\n",
      "Epoch 15/30\n",
      "125/125 [==============================] - 0s 2ms/step - loss: 304.5990 - mae: 11.2176 - mape: 1301.1687 - val_loss: 310.1371 - val_mae: 10.8941 - val_mape: 182.0863\n",
      "Epoch 16/30\n",
      "125/125 [==============================] - 0s 2ms/step - loss: 302.7468 - mae: 11.2074 - mape: 884.9180 - val_loss: 306.0507 - val_mae: 10.8598 - val_mape: 179.0362\n",
      "Epoch 17/30\n",
      "125/125 [==============================] - 0s 2ms/step - loss: 301.9109 - mae: 11.1571 - mape: 1108.8580 - val_loss: 306.9463 - val_mae: 10.8426 - val_mape: 201.6873\n",
      "Epoch 18/30\n",
      "125/125 [==============================] - 0s 2ms/step - loss: 299.1517 - mae: 11.0995 - mape: 1152.5455 - val_loss: 304.5063 - val_mae: 10.8335 - val_mape: 186.3144\n",
      "Epoch 19/30\n",
      "125/125 [==============================] - 0s 2ms/step - loss: 297.3831 - mae: 11.0700 - mape: 828.8668 - val_loss: 305.6188 - val_mae: 10.8081 - val_mape: 175.2709\n",
      "Epoch 20/30\n",
      "125/125 [==============================] - 0s 2ms/step - loss: 298.1741 - mae: 11.0270 - mape: 956.8504 - val_loss: 303.6187 - val_mae: 10.8017 - val_mape: 222.4149\n",
      "Epoch 21/30\n",
      "125/125 [==============================] - 0s 2ms/step - loss: 294.7747 - mae: 11.0115 - mape: 1006.7479 - val_loss: 305.1693 - val_mae: 10.7672 - val_mape: 185.1154\n",
      "Epoch 22/30\n",
      "125/125 [==============================] - 0s 2ms/step - loss: 294.6036 - mae: 10.9244 - mape: 1043.2448 - val_loss: 305.4796 - val_mae: 10.7887 - val_mape: 179.9439\n",
      "Epoch 23/30\n",
      "125/125 [==============================] - 0s 2ms/step - loss: 291.4854 - mae: 10.8828 - mape: 785.1356 - val_loss: 303.8308 - val_mae: 10.7370 - val_mape: 173.3762\n",
      "Epoch 24/30\n",
      "125/125 [==============================] - 0s 2ms/step - loss: 290.1903 - mae: 10.8316 - mape: 768.6370 - val_loss: 302.2426 - val_mae: 10.7362 - val_mape: 223.7563\n",
      "Epoch 25/30\n",
      "125/125 [==============================] - 0s 2ms/step - loss: 289.7946 - mae: 10.8292 - mape: 856.9292 - val_loss: 301.8950 - val_mae: 10.7118 - val_mape: 175.6029\n",
      "Epoch 26/30\n",
      "125/125 [==============================] - 0s 2ms/step - loss: 287.6992 - mae: 10.7390 - mape: 980.8308 - val_loss: 300.9978 - val_mae: 10.6923 - val_mape: 182.9819\n",
      "Epoch 27/30\n",
      "125/125 [==============================] - 0s 2ms/step - loss: 287.2977 - mae: 10.7364 - mape: 941.0854 - val_loss: 302.2319 - val_mae: 10.7546 - val_mape: 158.3508\n",
      "Epoch 28/30\n",
      "125/125 [==============================] - 0s 2ms/step - loss: 286.3898 - mae: 10.7398 - mape: 684.3900 - val_loss: 300.4407 - val_mae: 10.6980 - val_mape: 153.6677\n"
     ]
    }
   ],
   "source": [
    "# Compile\n",
    "m1.compile(\n",
    "    optimizer=tensorflow.keras.optimizers.Adam(5e-5),\n",
    "    loss=tensorflow.keras.losses.MeanSquaredError(),\n",
    "    metrics=[\n",
    "        tensorflow.keras.metrics.MeanAbsoluteError(name='mae'),\n",
    "        tensorflow.keras.metrics.MeanAbsolutePercentageError(name='mape')],\n",
    ")\n",
    "\n",
    "# Train\n",
    "callback = tensorflow.keras.callbacks.EarlyStopping(\n",
    "    monitor='val_mae', patience=2, min_delta=0.001, mode='min'\n",
    ")\n",
    "\n",
    "m1_log =  m1.fit(\n",
    "    train_x, train_p, epochs=30, verbose=1, callbacks=[callback],\n",
    "    validation_data=(val_x, val_p)\n",
    ")"
   ]
  },
  {
   "cell_type": "code",
   "execution_count": 15,
   "metadata": {},
   "outputs": [
    {
     "data": {
      "text/html": [
       "<div>\n",
       "<style scoped>\n",
       "    .dataframe tbody tr th:only-of-type {\n",
       "        vertical-align: middle;\n",
       "    }\n",
       "\n",
       "    .dataframe tbody tr th {\n",
       "        vertical-align: top;\n",
       "    }\n",
       "\n",
       "    .dataframe thead th {\n",
       "        text-align: right;\n",
       "    }\n",
       "</style>\n",
       "<table border=\"1\" class=\"dataframe\">\n",
       "  <thead>\n",
       "    <tr style=\"text-align: right;\">\n",
       "      <th></th>\n",
       "      <th>mobA</th>\n",
       "      <th>mobB</th>\n",
       "      <th>frac</th>\n",
       "    </tr>\n",
       "  </thead>\n",
       "  <tbody>\n",
       "    <tr>\n",
       "      <th>0</th>\n",
       "      <td>29.864891</td>\n",
       "      <td>45.070511</td>\n",
       "      <td>0.228614</td>\n",
       "    </tr>\n",
       "    <tr>\n",
       "      <th>1</th>\n",
       "      <td>48.464794</td>\n",
       "      <td>53.257511</td>\n",
       "      <td>-0.298769</td>\n",
       "    </tr>\n",
       "    <tr>\n",
       "      <th>2</th>\n",
       "      <td>47.270699</td>\n",
       "      <td>77.586227</td>\n",
       "      <td>-0.218715</td>\n",
       "    </tr>\n",
       "    <tr>\n",
       "      <th>3</th>\n",
       "      <td>16.072918</td>\n",
       "      <td>47.886784</td>\n",
       "      <td>0.193068</td>\n",
       "    </tr>\n",
       "    <tr>\n",
       "      <th>4</th>\n",
       "      <td>46.074760</td>\n",
       "      <td>51.464523</td>\n",
       "      <td>0.042570</td>\n",
       "    </tr>\n",
       "    <tr>\n",
       "      <th>...</th>\n",
       "      <td>...</td>\n",
       "      <td>...</td>\n",
       "      <td>...</td>\n",
       "    </tr>\n",
       "    <tr>\n",
       "      <th>995</th>\n",
       "      <td>51.643520</td>\n",
       "      <td>24.079294</td>\n",
       "      <td>-0.238101</td>\n",
       "    </tr>\n",
       "    <tr>\n",
       "      <th>996</th>\n",
       "      <td>67.494591</td>\n",
       "      <td>51.796486</td>\n",
       "      <td>0.148885</td>\n",
       "    </tr>\n",
       "    <tr>\n",
       "      <th>997</th>\n",
       "      <td>46.785809</td>\n",
       "      <td>13.146588</td>\n",
       "      <td>-0.280179</td>\n",
       "    </tr>\n",
       "    <tr>\n",
       "      <th>998</th>\n",
       "      <td>8.321230</td>\n",
       "      <td>47.632427</td>\n",
       "      <td>0.079008</td>\n",
       "    </tr>\n",
       "    <tr>\n",
       "      <th>999</th>\n",
       "      <td>38.626831</td>\n",
       "      <td>56.370747</td>\n",
       "      <td>0.115623</td>\n",
       "    </tr>\n",
       "  </tbody>\n",
       "</table>\n",
       "<p>1000 rows × 3 columns</p>\n",
       "</div>"
      ],
      "text/plain": [
       "          mobA       mobB      frac\n",
       "0    29.864891  45.070511  0.228614\n",
       "1    48.464794  53.257511 -0.298769\n",
       "2    47.270699  77.586227 -0.218715\n",
       "3    16.072918  47.886784  0.193068\n",
       "4    46.074760  51.464523  0.042570\n",
       "..         ...        ...       ...\n",
       "995  51.643520  24.079294 -0.238101\n",
       "996  67.494591  51.796486  0.148885\n",
       "997  46.785809  13.146588 -0.280179\n",
       "998   8.321230  47.632427  0.079008\n",
       "999  38.626831  56.370747  0.115623\n",
       "\n",
       "[1000 rows x 3 columns]"
      ]
     },
     "execution_count": 15,
     "metadata": {},
     "output_type": "execute_result"
    }
   ],
   "source": [
    "val_pred = pandas.DataFrame(m1.predict(val_x), columns=['mobA', 'mobB', 'frac'])\n",
    "val_pred"
   ]
  },
  {
   "cell_type": "code",
   "execution_count": 16,
   "metadata": {},
   "outputs": [
    {
     "data": {
      "text/html": [
       "<div>\n",
       "<style scoped>\n",
       "    .dataframe tbody tr th:only-of-type {\n",
       "        vertical-align: middle;\n",
       "    }\n",
       "\n",
       "    .dataframe tbody tr th {\n",
       "        vertical-align: top;\n",
       "    }\n",
       "\n",
       "    .dataframe thead th {\n",
       "        text-align: right;\n",
       "    }\n",
       "</style>\n",
       "<table border=\"1\" class=\"dataframe\">\n",
       "  <thead>\n",
       "    <tr style=\"text-align: right;\">\n",
       "      <th></th>\n",
       "      <th>index</th>\n",
       "      <th>mobA</th>\n",
       "      <th>mobB</th>\n",
       "      <th>frac</th>\n",
       "    </tr>\n",
       "  </thead>\n",
       "  <tbody>\n",
       "    <tr>\n",
       "      <th>0</th>\n",
       "      <td>1095</td>\n",
       "      <td>27.911473</td>\n",
       "      <td>25.808916</td>\n",
       "      <td>0.344582</td>\n",
       "    </tr>\n",
       "    <tr>\n",
       "      <th>1</th>\n",
       "      <td>1042</td>\n",
       "      <td>94.078509</td>\n",
       "      <td>50.617573</td>\n",
       "      <td>-0.304685</td>\n",
       "    </tr>\n",
       "    <tr>\n",
       "      <th>2</th>\n",
       "      <td>2876</td>\n",
       "      <td>29.085166</td>\n",
       "      <td>74.834198</td>\n",
       "      <td>-0.231542</td>\n",
       "    </tr>\n",
       "    <tr>\n",
       "      <th>3</th>\n",
       "      <td>3791</td>\n",
       "      <td>17.131712</td>\n",
       "      <td>24.463983</td>\n",
       "      <td>0.298894</td>\n",
       "    </tr>\n",
       "    <tr>\n",
       "      <th>4</th>\n",
       "      <td>3932</td>\n",
       "      <td>27.649383</td>\n",
       "      <td>88.849111</td>\n",
       "      <td>0.068781</td>\n",
       "    </tr>\n",
       "    <tr>\n",
       "      <th>...</th>\n",
       "      <td>...</td>\n",
       "      <td>...</td>\n",
       "      <td>...</td>\n",
       "      <td>...</td>\n",
       "    </tr>\n",
       "    <tr>\n",
       "      <th>995</th>\n",
       "      <td>2183</td>\n",
       "      <td>56.310766</td>\n",
       "      <td>30.169234</td>\n",
       "      <td>-0.176134</td>\n",
       "    </tr>\n",
       "    <tr>\n",
       "      <th>996</th>\n",
       "      <td>3336</td>\n",
       "      <td>66.638817</td>\n",
       "      <td>14.263856</td>\n",
       "      <td>0.182307</td>\n",
       "    </tr>\n",
       "    <tr>\n",
       "      <th>997</th>\n",
       "      <td>714</td>\n",
       "      <td>47.395350</td>\n",
       "      <td>20.787280</td>\n",
       "      <td>-0.108672</td>\n",
       "    </tr>\n",
       "    <tr>\n",
       "      <th>998</th>\n",
       "      <td>2192</td>\n",
       "      <td>12.077042</td>\n",
       "      <td>4.382351</td>\n",
       "      <td>0.103654</td>\n",
       "    </tr>\n",
       "    <tr>\n",
       "      <th>999</th>\n",
       "      <td>428</td>\n",
       "      <td>10.086584</td>\n",
       "      <td>99.272436</td>\n",
       "      <td>0.031022</td>\n",
       "    </tr>\n",
       "  </tbody>\n",
       "</table>\n",
       "<p>1000 rows × 4 columns</p>\n",
       "</div>"
      ],
      "text/plain": [
       "     index       mobA       mobB      frac\n",
       "0     1095  27.911473  25.808916  0.344582\n",
       "1     1042  94.078509  50.617573 -0.304685\n",
       "2     2876  29.085166  74.834198 -0.231542\n",
       "3     3791  17.131712  24.463983  0.298894\n",
       "4     3932  27.649383  88.849111  0.068781\n",
       "..     ...        ...        ...       ...\n",
       "995   2183  56.310766  30.169234 -0.176134\n",
       "996   3336  66.638817  14.263856  0.182307\n",
       "997    714  47.395350  20.787280 -0.108672\n",
       "998   2192  12.077042   4.382351  0.103654\n",
       "999    428  10.086584  99.272436  0.031022\n",
       "\n",
       "[1000 rows x 4 columns]"
      ]
     },
     "execution_count": 16,
     "metadata": {},
     "output_type": "execute_result"
    }
   ],
   "source": [
    "val_p.reset_index()"
   ]
  },
  {
   "cell_type": "code",
   "execution_count": 17,
   "metadata": {},
   "outputs": [
    {
     "data": {
      "image/png": "[encoded data removed]",
      "text/plain": [
       "<Figure size 1080x360 with 2 Axes>"
      ]
     },
     "metadata": {
      "needs_background": "light"
     },
     "output_type": "display_data"
    },
    {
     "data": {
      "text/plain": [
       "array([2.59838022e+00, 1.51621972e-03, 1.58310217e-02, 1.97545327e+01])"
      ]
     },
     "execution_count": 17,
     "metadata": {},
     "output_type": "execute_result"
    }
   ],
   "source": [
    "# Check the performance\n",
    "rmse_mobA, rmse_mobB = [], []\n",
    "frac = numpy.linspace(-0.4, 0.4, 81)\n",
    "delta = 0.05\n",
    "for f in frac:\n",
    "    mask = numpy.abs(f - val_p.reset_index().frac) < delta    \n",
    "    rmse_mobA.append(numpy.sqrt(\n",
    "        sklearn.metrics.mean_squared_error(val_pred.mobA[mask], val_p.reset_index().mobA[mask])))\n",
    "    rmse_mobB.append(numpy.sqrt(\n",
    "        sklearn.metrics.mean_squared_error(val_pred.mobB[mask], val_p.reset_index().mobB[mask])))\n",
    "\n",
    "\n",
    "rmse_mobA = numpy.array(rmse_mobA)\n",
    "rmse_mobB = numpy.array(rmse_mobB)\n",
    "av_rmse = numpy.add(rmse_mobA, rmse_mobB)/2\n",
    "    \n",
    "# Fit Gaussian\n",
    "def gaussian(x, amplitude, mean, stddev, bias):\n",
    "    \"\"\"Return gaussian function in 1D.\"\"\"\n",
    "    return amplitude*numpy.exp(-((x - mean)/(4*stddev))**2) + bias\n",
    "\n",
    "# Restrick yourself only to values close to the peak\n",
    "peak_x = frac[31:50]\n",
    "peak_y = av_rmse[31:50]\n",
    "popt, _ = scipy.optimize.curve_fit(\n",
    "    gaussian, peak_x, peak_y,\n",
    "    p0=[1, 0, 0.01, 1]\n",
    ")\n",
    "\n",
    "fig, axes = plt.subplots(1, 2, figsize=(12, 4), dpi=90)\n",
    "axes[0].plot(frac, rmse_mobA, '.-', label='mobA RMSE', linewidth=1, markersize=7)\n",
    "axes[0].plot(frac, rmse_mobB, '.:', label='mobB RMSE', linewidth=1, markersize=7)\n",
    "axes[0].legend(); axes[0].grid(); axes[0].set_xlabel('frac'); axes[0].set_ylabel('RMSE')\n",
    "\n",
    "axes[1].plot(frac, av_rmse, 'k.-', label='Mean RMSE', linewidth=1, markersize=7)\n",
    "axes[1].plot(peak_x, gaussian(peak_x, *popt), 'r-', label='Gauss Fit', linewidth=3)\n",
    "axes[1].legend(); axes[1].grid(); axes[1].set_xlabel('frac'); axes[1].set_ylabel('RMSE')\n",
    "plt.show()\n",
    "\n",
    "# Find the parameter value that corresponds to the peak\n",
    "popt  # aplitude, mean value, std, bias"
   ]
  },
  {
   "cell_type": "code",
   "execution_count": 18,
   "metadata": {},
   "outputs": [
    {
     "data": {
      "text/plain": [
       "array([ 0.07227134, -0.02093455,  0.02289917,  0.06238653])"
      ]
     },
     "execution_count": 18,
     "metadata": {},
     "output_type": "execute_result"
    },
    {
     "data": {
      "image/png": "[encoded data removed]",
      "text/plain": [
       "<Figure size 900x360 with 1 Axes>"
      ]
     },
     "metadata": {
      "needs_background": "light"
     },
     "output_type": "display_data"
    }
   ],
   "source": [
    "# Check the performance\n",
    "rmse_frac = []\n",
    "frac = numpy.linspace(-0.4, 0.4, 81)\n",
    "delta = 0.05\n",
    "for f in frac:\n",
    "    mask = numpy.abs(f - val_p.reset_index().frac) < delta    \n",
    "    rmse_frac.append(numpy.sqrt(\n",
    "        sklearn.metrics.mean_squared_error(val_pred.frac[mask], val_p.reset_index().frac[mask])))\n",
    "    \n",
    "rmse_frac = numpy.array(rmse_frac)\n",
    "\n",
    "# Fit Gaussian\n",
    "def gaussian(x, amplitude, mean, stddev, bias):\n",
    "    \"\"\"Return gaussian function in 1D.\"\"\"\n",
    "    return amplitude*numpy.exp(-((x - mean)/(4*stddev))**2) + bias\n",
    "\n",
    "# Restrick yourself only to values close to the peak\n",
    "peak_x = frac[31:50]\n",
    "peak_y = rmse_frac[31:50]\n",
    "popt, _ = scipy.optimize.curve_fit(\n",
    "    gaussian, peak_x, peak_y,\n",
    "    p0=[1, 0, 0.01, 1]\n",
    ")\n",
    "\n",
    "fig, axes = plt.subplots(1, 1, figsize=(10, 4), dpi=90)\n",
    "axes.plot(frac, rmse_frac, 'k.-', label='frac RMSE', linewidth=1, markersize=9)\n",
    "axes.plot(peak_x, gaussian(peak_x, *popt), 'r-', label='Gauss Fit', linewidth=4)\n",
    "axes.legend(); axes.grid(); axes.set_xlabel('frac'); axes.set_ylabel('RMSE')\n",
    "\n",
    "# Find the parameter value that corresponds to the peak\n",
    "popt  # aplitude, mean value, std, bias"
   ]
  },
  {
   "cell_type": "markdown",
   "metadata": {},
   "source": [
    "### Mid-Summary\n",
    "\n",
    "The accuracy of our predictions changes as we vary the parameters `frac`. This is a similar effect to the \"Learning by Confussion\" but more direct. The increase in the error is related to the universality property of the system in the critical point. Certain parameters become irrelevant - or in other words, some properties of the outcome becomes independent of the dynamical details of the system. This means, that we are not capable of predicting all of the initial parameters anymore, because the same outcome can be reached from various starting points. What is remarkable, we can measure it here directly.\n",
    "\n",
    "By fitting a Gaussian, we can estimate the position of the critical point to be `frac = -0.02 +- 0.02`, which match our expectation (due to the symmetry of the problem, we should have `frac = 0`)."
   ]
  }
 ],
 "metadata": {
  "kernelspec": {
   "display_name": "Python 3 (ipykernel)",
   "language": "python",
   "name": "python3"
  },
  "language_info": {
   "codemirror_mode": {
    "name": "ipython",
    "version": 3
   },
   "file_extension": ".py",
   "mimetype": "text/x-python",
   "name": "python",
   "nbconvert_exporter": "python",
   "pygments_lexer": "ipython3",
   "version": "3.10.4"
  }
 },
 "nbformat": 4,
 "nbformat_minor": 4
}
